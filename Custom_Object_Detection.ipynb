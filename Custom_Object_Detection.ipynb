{
  "nbformat": 4,
  "nbformat_minor": 0,
  "metadata": {
    "colab": {
      "name": "Custom_Object_Detection.ipynb",
      "version": "0.3.2",
      "provenance": [],
      "collapsed_sections": [],
      "toc_visible": true
    },
    "kernelspec": {
      "display_name": "Python 3",
      "language": "python",
      "name": "python3"
    },
    "accelerator": "GPU"
  },
  "cells": [
    {
      "metadata": {
        "id": "xgfK9bVD_lmg",
        "colab_type": "code",
        "colab": {}
      },
      "cell_type": "code",
      "source": [
        "!pip install -U -q PyDrive\n",
        "from pydrive.auth import GoogleAuth\n",
        "from pydrive.drive import GoogleDrive\n",
        "from google.colab import auth\n",
        "import zipfile\n",
        "from oauth2client.client import GoogleCredentials\n",
        "auth.authenticate_user()\n",
        "gauth = GoogleAuth()\n",
        "gauth.credentials = GoogleCredentials.get_application_default()\n",
        "drive = GoogleDrive(gauth)"
      ],
      "execution_count": 0,
      "outputs": []
    },
    {
      "metadata": {
        "id": "Qc2O3-qrlMxy",
        "colab_type": "code",
        "colab": {}
      },
      "cell_type": "code",
      "source": [
        "!apt-get install protobuf-compiler python-pil python-lxml python-tk\n",
        "!pip install Cython pillow lxml matplotlib contextlib2 opencv-python pandas\n",
        "\n",
        "!git clone https://github.com/tensorflow/models.git\n",
        "%cd /content/models/research/object_detection/\n",
        "!git clone https://github.com/EdjeElectronics/TensorFlow-Object-Detection-API-Tutorial-Train-Multiple-Objects-Windows-10.git\n",
        "!cp -r /content/models/research/object_detection/TensorFlow-Object-Detection-API-Tutorial-Train-Multiple-Objects-Windows-10/*  /content/models/research/object_detection/\n",
        "!rm -r TensorFlow-Object-Detection-API-Tutorial-Train-Multiple-Objects-Windows-10\n",
        "\n"
      ],
      "execution_count": 0,
      "outputs": []
    },
    {
      "metadata": {
        "id": "ZKsOx8NqJDA1",
        "colab_type": "code",
        "colab": {}
      },
      "cell_type": "code",
      "source": [
        "%cd /content/\n",
        "!git clone https://github.com/cocodataset/cocoapi.git\n",
        "%cd cocoapi/PythonAPI\n",
        "!make\n",
        "!cp -r pycocotools /content/models/research/\n",
        "%set_env PYTHONPATH=/content/models/research:/content/models/research/slim:/content/models/research/slim/nets/\n",
        "%cd /content/models/research\n",
        "!protoc object_detection/protos/*.proto --python_out=.\n",
        "!python setup.py build\n",
        "!python setup.py install\n",
        "!rm -r /content/cocoapi"
      ],
      "execution_count": 0,
      "outputs": []
    },
    {
      "metadata": {
        "id": "ffGh9bHfUPK8",
        "colab_type": "code",
        "colab": {}
      },
      "cell_type": "code",
      "source": [
        "%cd /content/models/research\n",
        "!python object_detection/builders/model_builder_test.py\n",
        "\n",
        "#TESTINGS#"
      ],
      "execution_count": 0,
      "outputs": []
    },
    {
      "metadata": {
        "id": "vsJLAcQlgv87",
        "colab_type": "code",
        "outputId": "958f3eea-198e-4722-a518-06a7b9320bfb",
        "colab": {
          "base_uri": "https://localhost:8080/",
          "height": 394
        }
      },
      "cell_type": "code",
      "source": [
        "# OWN DATA_set\n",
        "\n",
        "#clonnig model to Object detection of tensorflow models and extracting in \"OBJECT DETECTION FOLDER\"\n",
        "%cd /content/\n",
        "!wget http://download.tensorflow.org/models/object_detection/faster_rcnn_inception_v2_coco_2018_01_28.tar.gz\n",
        "!tar -xvzf faster_rcnn_inception_v2_coco_2018_01_28.tar.gz\n",
        "!cp -r faster_rcnn_inception_v2_coco_2018_01_28 /content/models/research/object_detection/\n",
        "!rm -r faster_rcnn_inception_v2_coco_2018_01_28*\n",
        "#removing pretrained things to train \"OWN IAMGES\"\n",
        "!rm -r /content/models/research/object_detection/inference_graph/*\n",
        "!rm -r /content/models/research/object_detection/training/*\n",
        "#IF doing for your own classifier\n",
        "!rm -r /content/models/research/object_detection/images\n",
        "#importing your images.zip containing test and train with xml by \"LABELIMG\"\n",
        "%cd /content/models/research/object_detection/\n",
        "#kindly zip only test and train folder otherwise DO THIS STEP\n",
        "\n",
        "id = drive.ListFile({'q':\"title='images.zip'\"}).GetList()[0]['id']\n",
        "f = drive.CreateFile({'id': id})\n",
        "f.GetContentFile('images.zip')\n",
        "import zipfile #extraction\n",
        "zip_ref = zipfile.ZipFile('images.zip', 'r')\n",
        "zip_ref.extractall('')\n",
        "zip_ref.close()\n",
        "#!rm -r images.zip\n",
        "\n",
        "#creating XML for model\n",
        "!python /content/models/research/object_detection/xml_to_csv.py\n",
        "#Editing classes for generating tfRECORD\n",
        "%cd /content/models/research/object_detection/\n",
        "!rm -r generate_tfrecord.py \n",
        "#UPDATE AND REPLACE THESE FILES UPLOADED IN GOOGLE DRIVE#\n",
        "#getting new tfRecord\n",
        "%cd /content/models/research/object_detection/\n",
        "fid = drive.ListFile({'q':\"title='generate_tfrecord.py'\"}).GetList()[0]['id']\n",
        "f = drive.CreateFile({'id': fid})\n",
        "f.GetContentFile('generate_tfrecord.py')\n",
        "# /object detection/training\n",
        "%cd /content/models/research/object_detection/training/\n",
        "id = drive.ListFile({'q':\"title='faster_rcnn_inception_v2_pets.config'\"}).GetList()[0]['id']\n",
        "f = drive.CreateFile({'id': id})\n",
        "f.GetContentFile('faster_rcnn_inception_v2_pets.config')\n",
        "\n",
        "id = drive.ListFile({'q':\"title='labelmap.pbtxt'\"}).GetList()[0]['id']\n",
        "f = drive.CreateFile({'id': id})\n",
        "f.GetContentFile('labelmap.pbtxt')\n",
        "\n",
        "#ORDER NA KHRAB PLEEJ"
      ],
      "execution_count": 0,
      "outputs": [
        {
          "output_type": "stream",
          "text": [
            "/content\n",
            "\n",
            "Redirecting output to ‘wget-log.3’.\n",
            "faster_rcnn_inception_v2_coco_2018_01_28/\n",
            "faster_rcnn_inception_v2_coco_2018_01_28/model.ckpt.index\n",
            "faster_rcnn_inception_v2_coco_2018_01_28/checkpoint\n",
            "faster_rcnn_inception_v2_coco_2018_01_28/pipeline.config\n",
            "faster_rcnn_inception_v2_coco_2018_01_28/model.ckpt.data-00000-of-00001\n",
            "faster_rcnn_inception_v2_coco_2018_01_28/model.ckpt.meta\n",
            "faster_rcnn_inception_v2_coco_2018_01_28/saved_model/\n",
            "faster_rcnn_inception_v2_coco_2018_01_28/saved_model/saved_model.pb\n",
            "faster_rcnn_inception_v2_coco_2018_01_28/saved_model/variables/\n",
            "faster_rcnn_inception_v2_coco_2018_01_28/frozen_inference_graph.pb\n",
            "rm: cannot remove '/content/models/research/object_detection/inference_graph/*': No such file or directory\n",
            "rm: cannot remove '/content/models/research/object_detection/images': No such file or directory\n",
            "/content/models/research/object_detection\n",
            "Successfully converted xml to csv.\n",
            "Successfully converted xml to csv.\n",
            "/content/models/research/object_detection\n",
            "/content/models/research/object_detection\n",
            "/content/models/research/object_detection/training\n"
          ],
          "name": "stdout"
        }
      ]
    },
    {
      "metadata": {
        "id": "w68hg0BqOz7T",
        "colab_type": "code",
        "outputId": "e117bd56-1fe7-4576-840e-ecbc0991d7f6",
        "colab": {
          "base_uri": "https://localhost:8080/",
          "height": 68
        }
      },
      "cell_type": "code",
      "source": [
        "!rm -r "
      ],
      "execution_count": 0,
      "outputs": [
        {
          "output_type": "stream",
          "text": [
            "/content\n",
            "adc.json  images.zip  sample_data  wget-log.1\n",
            "images\t  models      wget-log\t   wget-log.2\n"
          ],
          "name": "stdout"
        }
      ]
    },
    {
      "metadata": {
        "id": "XHzFgZs1er2T",
        "colab_type": "code",
        "outputId": "0acedaa3-f604-4c8f-ea87-1fcb3699089e",
        "colab": {
          "base_uri": "https://localhost:8080/",
          "height": 85
        }
      },
      "cell_type": "code",
      "source": [
        "%cd /content/models/research/object_detection/\n",
        "#train & test\n",
        "!python generate_tfrecord.py --csv_input=images/train_labels.csv --image_dir=images/train --output_path=train.record\n",
        "!python generate_tfrecord.py --csv_input=images/test_labels.csv --image_dir=images/test --output_path=test.record\n",
        "#RUN THE TRAINER\n",
        "%cd /content/models/research/object_detection/\n",
        "#!python /content/models/research/object_detection/legacy/train.py --logtostderr --train_dir=training/ --pipeline_config_path=training/faster_rcnn_inception_v2_pets.config\n"
      ],
      "execution_count": 0,
      "outputs": [
        {
          "output_type": "stream",
          "text": [
            "/content/models/research/object_detection\n",
            "Successfully created the TFRecords: /content/models/research/object_detection/train.record\n",
            "Successfully created the TFRecords: /content/models/research/object_detection/test.record\n",
            "/content/models/research/object_detection\n"
          ],
          "name": "stdout"
        }
      ]
    },
    {
      "metadata": {
        "id": "BrfoHWMeuPQG",
        "colab_type": "code",
        "colab": {}
      },
      "cell_type": "code",
      "source": [
        "%cd /content/models/research/object_detection/training/\n",
        "id = drive.ListFile({'q':\"title='model.ckpt-9044.meta'\"}).GetList()[0]['id']\n",
        "f = drive.CreateFile({'id': id})\n",
        "f.GetContentFile('model.ckpt-9044.meta')\n",
        "\n",
        "%cd /content/models/research/object_detection/\n",
        "!python export_inference_graph.py --input_type image_tensor --pipeline_config_path training/faster_rcnn_inception_v2_pets.config --trained_checkpoint_prefix training/model.ckpt-9044.meta --output_directory inference_graph\n"
      ],
      "execution_count": 0,
      "outputs": []
    },
    {
      "metadata": {
        "id": "IgMG5-dSQ6Fq",
        "colab_type": "code",
        "colab": {}
      },
      "cell_type": "code",
      "source": [
        "!rm -r Object_detection_webcam.py\n",
        "id = drive.ListFile({'q':\"title='Object_detection_webcam.py'\"}).GetList()[0]['id']\n",
        "f = drive.CreateFile({'id': id})\n",
        "f.GetContentFile('Object_detection_webcam.py')\n",
        "!python Object_detection_webcam.py"
      ],
      "execution_count": 0,
      "outputs": []
    },
    {
      "metadata": {
        "id": "PdNkZU2As3D_",
        "colab_type": "code",
        "outputId": "e3f91da1-3292-433c-d052-70c0fc8612d7",
        "colab": {
          "base_uri": "https://localhost:8080/",
          "height": 51
        }
      },
      "cell_type": "code",
      "source": [
        "% cd /content/\n",
        "!ls\n",
        "!rm -r *\n",
        "!ls"
      ],
      "execution_count": 0,
      "outputs": [
        {
          "output_type": "stream",
          "text": [
            "/content\n",
            "sample_data\n"
          ],
          "name": "stdout"
        }
      ]
    },
    {
      "metadata": {
        "id": "x5qlm091H57N",
        "colab_type": "code",
        "colab": {}
      },
      "cell_type": "code",
      "source": [
        ""
      ],
      "execution_count": 0,
      "outputs": []
    }
  ]
}