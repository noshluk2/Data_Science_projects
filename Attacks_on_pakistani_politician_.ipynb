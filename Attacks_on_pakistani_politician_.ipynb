{
  "nbformat": 4,
  "nbformat_minor": 0,
  "metadata": {
    "colab": {
      "name": "Attacks on pakistani politician .ipynb",
      "version": "0.3.2",
      "provenance": [],
      "collapsed_sections": []
    },
    "kernelspec": {
      "display_name": "Python 3",
      "language": "python",
      "name": "python3"
    }
  },
  "cells": [
    {
      "metadata": {
        "id": "Tr6-awBcllFO",
        "colab_type": "text"
      },
      "cell_type": "markdown",
      "source": [
        "# Muhammad Luqman\n",
        "## EDA Politician dataset"
      ]
    },
    {
      "metadata": {
        "id": "DG43UdOillFS",
        "colab_type": "code",
        "colab": {}
      },
      "cell_type": "code",
      "source": [
        "import pandas as pd\n",
        "import numpy as np\n",
        "import matplotlib.pyplot as plt\n",
        "import seaborn as sns\n",
        "%matplotlib inline\n",
        "sns.set()"
      ],
      "execution_count": 0,
      "outputs": []
    },
    {
      "metadata": {
        "id": "7IvaAAPvllFY",
        "colab_type": "code",
        "colab": {}
      },
      "cell_type": "code",
      "source": [
        "dataFrame=pd.read_csv('Attacks_on_Political_Leaders_in_Pakistan.csv',encoding=\"ISO-8859-1\")\n",
        "df=dataFrame.copy()"
      ],
      "execution_count": 0,
      "outputs": []
    },
    {
      "metadata": {
        "id": "ja-gYv_YllFb",
        "colab_type": "code",
        "colab": {},
        "outputId": "353fb125-1be5-45c8-c15b-462ab921962e"
      },
      "cell_type": "code",
      "source": [
        "df.head()"
      ],
      "execution_count": 0,
      "outputs": [
        {
          "output_type": "execute_result",
          "data": {
            "text/html": [
              "<div>\n",
              "<table border=\"1\" class=\"dataframe\">\n",
              "  <thead>\n",
              "    <tr style=\"text-align: right;\">\n",
              "      <th></th>\n",
              "      <th>S#</th>\n",
              "      <th>Politician</th>\n",
              "      <th>Day</th>\n",
              "      <th>Date</th>\n",
              "      <th>Day Type</th>\n",
              "      <th>Time</th>\n",
              "      <th>City</th>\n",
              "      <th>Location</th>\n",
              "      <th>Location Category</th>\n",
              "      <th>Province</th>\n",
              "      <th>Latitude</th>\n",
              "      <th>Longititude</th>\n",
              "      <th>Target Category</th>\n",
              "      <th>Space (Open/Closed)</th>\n",
              "      <th>Party</th>\n",
              "      <th>Target Status</th>\n",
              "      <th>Killed</th>\n",
              "      <th>Injured</th>\n",
              "    </tr>\n",
              "  </thead>\n",
              "  <tbody>\n",
              "    <tr>\n",
              "      <th>0</th>\n",
              "      <td>1</td>\n",
              "      <td>Liaqat Ali Khan</td>\n",
              "      <td>Tuesday</td>\n",
              "      <td>16-Oct-51</td>\n",
              "      <td>Working Day</td>\n",
              "      <td>Evening</td>\n",
              "      <td>Rawalpindi</td>\n",
              "      <td>Company Bagh (Company Gardens), Rawalpindi</td>\n",
              "      <td>Park/Ground</td>\n",
              "      <td>Punjab</td>\n",
              "      <td>33.605800</td>\n",
              "      <td>73.043700</td>\n",
              "      <td>Target</td>\n",
              "      <td>Open</td>\n",
              "      <td>Alll India Muslim League</td>\n",
              "      <td>Killed</td>\n",
              "      <td>1</td>\n",
              "      <td>1</td>\n",
              "    </tr>\n",
              "    <tr>\n",
              "      <th>1</th>\n",
              "      <td>2</td>\n",
              "      <td>Khan abdul Jabbar Khan</td>\n",
              "      <td>Friday</td>\n",
              "      <td>9-May-58</td>\n",
              "      <td>Working Day</td>\n",
              "      <td>Morning</td>\n",
              "      <td>Lahore</td>\n",
              "      <td>Sadullah Khan's house at 16 Aikman Road, GOR</td>\n",
              "      <td>Residence</td>\n",
              "      <td>Punjab</td>\n",
              "      <td>31.482635</td>\n",
              "      <td>74.071272</td>\n",
              "      <td>Target</td>\n",
              "      <td>Open</td>\n",
              "      <td>Chief Minister of West Pakistan</td>\n",
              "      <td>Killed</td>\n",
              "      <td>1</td>\n",
              "      <td>0</td>\n",
              "    </tr>\n",
              "    <tr>\n",
              "      <th>2</th>\n",
              "      <td>3</td>\n",
              "      <td>Hayyat Sherpao</td>\n",
              "      <td>Friday</td>\n",
              "      <td>8-Feb-85</td>\n",
              "      <td>Working Day</td>\n",
              "      <td>Evening</td>\n",
              "      <td>Peshawar</td>\n",
              "      <td>Campus of University of Peshawar</td>\n",
              "      <td>University</td>\n",
              "      <td>KPK</td>\n",
              "      <td>33.999533</td>\n",
              "      <td>71.425020</td>\n",
              "      <td>Target</td>\n",
              "      <td>Open</td>\n",
              "      <td>PPPP</td>\n",
              "      <td>Killed</td>\n",
              "      <td>1</td>\n",
              "      <td>0</td>\n",
              "    </tr>\n",
              "    <tr>\n",
              "      <th>3</th>\n",
              "      <td>4</td>\n",
              "      <td>Najeeb Ahmed</td>\n",
              "      <td>Friday</td>\n",
              "      <td>6-Apr-90</td>\n",
              "      <td>Working Day</td>\n",
              "      <td>After Noon</td>\n",
              "      <td>Karachi</td>\n",
              "      <td>North Nazimabad</td>\n",
              "      <td>Residence</td>\n",
              "      <td>Sindh</td>\n",
              "      <td>24.991800</td>\n",
              "      <td>66.991100</td>\n",
              "      <td>Target</td>\n",
              "      <td>Closed</td>\n",
              "      <td>Student wing of PPP</td>\n",
              "      <td>Killed</td>\n",
              "      <td>1</td>\n",
              "      <td>0</td>\n",
              "    </tr>\n",
              "    <tr>\n",
              "      <th>4</th>\n",
              "      <td>5</td>\n",
              "      <td>Azeem Ahmed Tariq</td>\n",
              "      <td>Saturday</td>\n",
              "      <td>1-May-93</td>\n",
              "      <td>Working Day</td>\n",
              "      <td>Morning</td>\n",
              "      <td>Karachi</td>\n",
              "      <td>near his house</td>\n",
              "      <td>Residence</td>\n",
              "      <td>Sindh</td>\n",
              "      <td>24.991800</td>\n",
              "      <td>66.991100</td>\n",
              "      <td>Target</td>\n",
              "      <td>Closed</td>\n",
              "      <td>MQM</td>\n",
              "      <td>Killed</td>\n",
              "      <td>1</td>\n",
              "      <td>0</td>\n",
              "    </tr>\n",
              "  </tbody>\n",
              "</table>\n",
              "</div>"
            ],
            "text/plain": [
              "   S#              Politician       Day       Date     Day Type        Time  \\\n",
              "0   1         Liaqat Ali Khan   Tuesday  16-Oct-51  Working Day     Evening   \n",
              "1   2  Khan abdul Jabbar Khan    Friday   9-May-58  Working Day     Morning   \n",
              "2   3          Hayyat Sherpao    Friday   8-Feb-85  Working Day     Evening   \n",
              "3   4            Najeeb Ahmed    Friday   6-Apr-90  Working Day  After Noon   \n",
              "4   5       Azeem Ahmed Tariq  Saturday   1-May-93  Working Day     Morning   \n",
              "\n",
              "         City                                       Location  \\\n",
              "0  Rawalpindi     Company Bagh (Company Gardens), Rawalpindi   \n",
              "1      Lahore   Sadullah Khan's house at 16 Aikman Road, GOR   \n",
              "2    Peshawar               Campus of University of Peshawar   \n",
              "3     Karachi                                North Nazimabad   \n",
              "4     Karachi                                 near his house   \n",
              "\n",
              "  Location Category Province   Latitude  Longititude Target Category  \\\n",
              "0       Park/Ground   Punjab  33.605800    73.043700          Target   \n",
              "1         Residence   Punjab  31.482635    74.071272          Target   \n",
              "2        University      KPK  33.999533    71.425020          Target   \n",
              "3         Residence    Sindh  24.991800    66.991100          Target   \n",
              "4         Residence    Sindh  24.991800    66.991100          Target   \n",
              "\n",
              "  Space (Open/Closed)                            Party Target Status  Killed  \\\n",
              "0                Open         Alll India Muslim League        Killed       1   \n",
              "1                Open  Chief Minister of West Pakistan        Killed       1   \n",
              "2                Open                             PPPP        Killed       1   \n",
              "3              Closed              Student wing of PPP        Killed       1   \n",
              "4              Closed                              MQM        Killed       1   \n",
              "\n",
              "   Injured  \n",
              "0        1  \n",
              "1        0  \n",
              "2        0  \n",
              "3        0  \n",
              "4        0  "
            ]
          },
          "metadata": {
            "tags": []
          },
          "execution_count": 3
        }
      ]
    },
    {
      "metadata": {
        "id": "AogD4eelllFh",
        "colab_type": "code",
        "colab": {},
        "outputId": "275395bc-dd61-406f-da20-22e7bd70cc69"
      },
      "cell_type": "code",
      "source": [
        "df.shape"
      ],
      "execution_count": 0,
      "outputs": [
        {
          "output_type": "execute_result",
          "data": {
            "text/plain": [
              "(51, 18)"
            ]
          },
          "metadata": {
            "tags": []
          },
          "execution_count": 4
        }
      ]
    },
    {
      "metadata": {
        "id": "HGQtLj0zllFl",
        "colab_type": "code",
        "colab": {},
        "outputId": "4f824229-1719-42ea-8585-c009b8f5650b"
      },
      "cell_type": "code",
      "source": [
        "df.isnull().sum()"
      ],
      "execution_count": 0,
      "outputs": [
        {
          "output_type": "execute_result",
          "data": {
            "text/plain": [
              "Politician             0\n",
              "Day                    0\n",
              "Date                   0\n",
              "Day Type               0\n",
              "Time                   0\n",
              "City                   0\n",
              "Location               0\n",
              "Location Category      3\n",
              "Province               0\n",
              "Latitude               0\n",
              "Longititude            0\n",
              "Target Category        0\n",
              "Space (Open/Closed)    0\n",
              "Party                  0\n",
              "Target Status          0\n",
              "Killed                 0\n",
              "Injured                0\n",
              "dtype: int64"
            ]
          },
          "metadata": {
            "tags": []
          },
          "execution_count": 27
        }
      ]
    },
    {
      "metadata": {
        "id": "evQvy_uYllFp",
        "colab_type": "code",
        "colab": {},
        "outputId": "10c0ffd9-55a4-465d-aa48-b1a6c946e58e"
      },
      "cell_type": "code",
      "source": [
        "df.info()"
      ],
      "execution_count": 0,
      "outputs": [
        {
          "output_type": "stream",
          "text": [
            "<class 'pandas.core.frame.DataFrame'>\n",
            "Int64Index: 51 entries, 0 to 50\n",
            "Data columns (total 18 columns):\n",
            "S#                     51 non-null int64\n",
            "Politician             51 non-null object\n",
            "Day                    51 non-null object\n",
            "Date                   51 non-null object\n",
            "Day Type               51 non-null object\n",
            "Time                   51 non-null object\n",
            "City                   51 non-null object\n",
            "Location               51 non-null object\n",
            "Location Category      48 non-null object\n",
            "Province               51 non-null object\n",
            "Latitude               51 non-null float64\n",
            "Longititude            51 non-null float64\n",
            "Target Category        51 non-null object\n",
            "Space (Open/Closed)    51 non-null object\n",
            "Party                  51 non-null object\n",
            "Target Status          51 non-null object\n",
            "Killed                 51 non-null int64\n",
            "Injured                51 non-null int64\n",
            "dtypes: float64(2), int64(3), object(13)\n",
            "memory usage: 7.6+ KB\n"
          ],
          "name": "stdout"
        }
      ]
    },
    {
      "metadata": {
        "id": "XY5W-E6wllFt",
        "colab_type": "code",
        "colab": {},
        "outputId": "314fcc2e-0991-4ffb-b4ad-492d82b0189d"
      },
      "cell_type": "code",
      "source": [
        "df.dtypes"
      ],
      "execution_count": 0,
      "outputs": [
        {
          "output_type": "execute_result",
          "data": {
            "text/plain": [
              "S#                       int64\n",
              "Politician              object\n",
              "Day                     object\n",
              "Date                    object\n",
              "Day Type                object\n",
              "Time                    object\n",
              "City                    object\n",
              "Location                object\n",
              "Location Category       object\n",
              "Province                object\n",
              "Latitude               float64\n",
              "Longititude            float64\n",
              "Target Category         object\n",
              "Space (Open/Closed)     object\n",
              "Party                   object\n",
              "Target Status           object\n",
              "Killed                   int64\n",
              "Injured                  int64\n",
              "dtype: object"
            ]
          },
          "metadata": {
            "tags": []
          },
          "execution_count": 6
        }
      ]
    },
    {
      "metadata": {
        "id": "dNoH4L0lllFx",
        "colab_type": "code",
        "colab": {}
      },
      "cell_type": "code",
      "source": [
        "df.drop('S#', axis=1, inplace=True)"
      ],
      "execution_count": 0,
      "outputs": []
    },
    {
      "metadata": {
        "id": "iY8trXWpllF1",
        "colab_type": "code",
        "colab": {},
        "outputId": "961e497f-1801-4cf0-e57b-b30e495842cd"
      },
      "cell_type": "code",
      "source": [
        "df['Target Status'].value_counts()"
      ],
      "execution_count": 0,
      "outputs": [
        {
          "output_type": "execute_result",
          "data": {
            "text/plain": [
              "Killed     31\n",
              "Escaped    20\n",
              "Name: Target Status, dtype: int64"
            ]
          },
          "metadata": {
            "tags": []
          },
          "execution_count": 8
        }
      ]
    },
    {
      "metadata": {
        "id": "-w0lXr31llF6",
        "colab_type": "code",
        "colab": {},
        "outputId": "76772a8f-5b00-453d-f006-455ef9a2c8fc"
      },
      "cell_type": "code",
      "source": [
        "df['Target Category'].value_counts()"
      ],
      "execution_count": 0,
      "outputs": [
        {
          "output_type": "execute_result",
          "data": {
            "text/plain": [
              "Suicide    27\n",
              "Target     24\n",
              "Name: Target Category, dtype: int64"
            ]
          },
          "metadata": {
            "tags": []
          },
          "execution_count": 9
        }
      ]
    },
    {
      "metadata": {
        "scrolled": true,
        "id": "WdGN0HcZllF9",
        "colab_type": "code",
        "colab": {},
        "outputId": "2aa58d89-7750-4f95-83bc-52a37b787e46"
      },
      "cell_type": "code",
      "source": [
        "df['Location'].value_counts()"
      ],
      "execution_count": 0,
      "outputs": [
        {
          "output_type": "execute_result",
          "data": {
            "text/plain": [
              "near his house                                                                                        2\n",
              "UNKNOWN                                                                                               2\n",
              "she had gone to address a political rally                                                             1\n",
              "roadside bomb blast targeting his vehicle                                                             1\n",
              "PPP election office in Eidgah market of Parachinar bazar                                              1\n",
              "Nakai in charsadda                                                                                    1\n",
              "village in Kulachi, which is located 45 kilometers from Dera Ismail Khan                              1\n",
              "Office of political agent                                                                             1\n",
              "Essakhel village house of Local political leader                                                      1\n",
              "A powerful bomb went off minutes after his highly-guarded convoy crossed a bridge                     1\n",
              "Jaffar village in fateh jang                                                                          1\n",
              "Attack on Musharaf's Rally                                                                            1\n",
              " Sadullah Khan's house at 16 Aikman Road, GOR                                                         1\n",
              "Political Affairs meeting                                                                             1\n",
              "Funeral                                                                                               1\n",
              "Campus of University of Peshawar                                                                      1\n",
              "Raily Housing Society, village of Palaseen\\nNear Finance Minnister\\nHouse Quetta                      1\n",
              "Company Bagh (Company Gardens), Rawalpindi                                                            1\n",
              "Near Haved Police Station                                                                             1\n",
              "Kohsar Market, near his home in Sector F6, Islamabad                                                  1\n",
              "Khyber Agency's Political Agent Office in Peshawar                                                    1\n",
              "Attack on sherin malik's convoy                                                                       1\n",
              "Details Missing                                                                                       1\n",
              "The bomb blast took place in Yakatoot in Kotwali Abid Khan                                            1\n",
              "Qissa Khwani Bazar                                                                                    1\n",
              "As his car drove into the capital, Islamabad                                                          1\n",
              "At Political Party MP's office on College road Taunsa DGK.                                            1\n",
              "Railway level crossing sryab pattak                                                                   1\n",
              " Zarghon Road 200 metres from Chief Ministers House                                                  1\n",
              "PPP Rally                                                                                             1\n",
              "while traveling                                                                                       1\n",
              "Bhakkar Rasheed Noranni MNA house                                                                     1\n",
              "Traveling in Hangu                                                                                    1\n",
              "Rally Charsadda                                                                                       1\n",
              "North Nazimabad                                                                                       1\n",
              "Ghalani area\\nAgent office                                                                            1\n",
              "Liaquat Bagh Park                                                                                     1\n",
              "Political Agent Office in Miranshah                                                                   1\n",
              "Southern Shikarpur district of Sindh province-some 400 kilometres (250 miles) northeast of Karachi    1\n",
              "Near Market in the town of Doaba                                                                      1\n",
              "Outside the guest house of a pro-Government tribal elder-Malik Swab Khan-in Kohat District            1\n",
              "ANP rally in Timergara                                                                                1\n",
              "Attack on BAP's rally                                                                                 1\n",
              "Political office in Attocks Shadi Khan area                                                          1\n",
              "Sector i-8                                                                                            1\n",
              "Yakatoot neighbourhood, Peshawar                                                                      1\n",
              "Market                                                                                                1\n",
              "Aidak village in mirali-near miranshah                                                                1\n",
              "highly contested partial rerun of the general election                                                1\n",
              "Name: Location, dtype: int64"
            ]
          },
          "metadata": {
            "tags": []
          },
          "execution_count": 10
        }
      ]
    },
    {
      "metadata": {
        "id": "a6c3RpmMllGB",
        "colab_type": "code",
        "colab": {},
        "outputId": "b267a248-7658-49ce-8514-611d442ebf51"
      },
      "cell_type": "code",
      "source": [
        "df[df['Killed']>1].shape"
      ],
      "execution_count": 0,
      "outputs": [
        {
          "output_type": "execute_result",
          "data": {
            "text/plain": [
              "(24, 17)"
            ]
          },
          "metadata": {
            "tags": []
          },
          "execution_count": 29
        }
      ]
    },
    {
      "metadata": {
        "id": "bGu9MqkillGH",
        "colab_type": "code",
        "colab": {},
        "outputId": "485e408a-94a2-44df-b069-a9d1e1b13361"
      },
      "cell_type": "code",
      "source": [
        "df['Location Category'].value_counts()"
      ],
      "execution_count": 0,
      "outputs": [
        {
          "output_type": "execute_result",
          "data": {
            "text/plain": [
              "Residence          14\n",
              "Road               11\n",
              "Park/Ground         5\n",
              "Market              4\n",
              "Government          4\n",
              "UNKNOWN             2\n",
              "Office Building     1\n",
              "Religious           1\n",
              "University          1\n",
              "Mobile              1\n",
              "Transport           1\n",
              "Hotel               1\n",
              "Funeral             1\n",
              "Details Missing     1\n",
              "Name: Location Category, dtype: int64"
            ]
          },
          "metadata": {
            "tags": []
          },
          "execution_count": 12
        }
      ]
    },
    {
      "metadata": {
        "id": "MHc121CNllGO",
        "colab_type": "code",
        "colab": {},
        "outputId": "2a88f92c-1e4a-4566-c9c9-641ca4333027"
      },
      "cell_type": "code",
      "source": [
        "sns.countplot(data=df,x='Province')"
      ],
      "execution_count": 0,
      "outputs": [
        {
          "output_type": "execute_result",
          "data": {
            "text/plain": [
              "<matplotlib.axes._subplots.AxesSubplot at 0x7fde30ef33c8>"
            ]
          },
          "metadata": {
            "tags": []
          },
          "execution_count": 13
        },
        {
          "output_type": "display_data",
          "data": {
            "image/png": "[encoded data removed]",
            "text/plain": [
              "<Figure size 432x288 with 1 Axes>"
            ]
          },
          "metadata": {
            "tags": []
          }
        }
      ]
    },
    {
      "metadata": {
        "id": "1Ra-xpjFllGW",
        "colab_type": "code",
        "colab": {},
        "outputId": "5d3b8bae-18dc-438b-f78d-a49d6bcb475a"
      },
      "cell_type": "code",
      "source": [
        "killed_mostly=df.groupby('Party')['Target Status'].value_counts()\n",
        "killed_mostly"
      ],
      "execution_count": 0,
      "outputs": [
        {
          "output_type": "execute_result",
          "data": {
            "text/plain": [
              "Party                            Target Status\n",
              "ANP                              Killed           4\n",
              "                                 Escaped          3\n",
              "All Pakistan Muslim League       Escaped          2\n",
              "Alll India Muslim League         Killed           1\n",
              "Assistant Political Agent        Killed           1\n",
              "BAP                              Killed           1\n",
              "BNP                              Killed           1\n",
              "Baloch Nationalist               Killed           1\n",
              "Baloch Student Organizaion       Killed           1\n",
              "Chief Minister of West Pakistan  Killed           1\n",
              "Hazara Democratic Party (HDP)    Killed           1\n",
              "Independent                      Killed           2\n",
              "JUIF                             Escaped          2\n",
              "Local Political Leader           Escaped          3\n",
              "                                 Killed           1\n",
              "MMA                              Escaped          1\n",
              "MQM                              Killed           1\n",
              "Millat-i-Islamia                 Killed           1\n",
              "Ministor                         Killed           1\n",
              "Ministor of Miniroties           Killed           1\n",
              "National People's Party          Escaped          1\n",
              "PMLN                             Escaped          3\n",
              "                                 Killed           2\n",
              "PMLQ                             Escaped          1\n",
              "PPPP                             Killed           5\n",
              "                                 Escaped          3\n",
              "PTI                              Killed           3\n",
              "Pro-Government tribal elder      Escaped          1\n",
              "Student wing of PPP              Killed           1\n",
              "mqm                              Killed           1\n",
              "dtype: int64"
            ]
          },
          "metadata": {
            "tags": []
          },
          "execution_count": 22
        }
      ]
    },
    {
      "metadata": {
        "id": "vXQ2sADLllGc",
        "colab_type": "text"
      },
      "cell_type": "markdown",
      "source": [
        "## By party Heros"
      ]
    },
    {
      "metadata": {
        "id": "SNhdHupyllGd",
        "colab_type": "code",
        "colab": {},
        "outputId": "b1b7cf2c-a03c-472a-af0b-5bda7cd1f338"
      },
      "cell_type": "code",
      "source": [
        "sns.catplot(data=df,x='Party',order=['ANP','PPPP','Local Political Leader','PMLN'],kind='count',col='Target Status')\n"
      ],
      "execution_count": 0,
      "outputs": [
        {
          "output_type": "execute_result",
          "data": {
            "text/plain": [
              "<seaborn.axisgrid.FacetGrid at 0x7fde2d2c7208>"
            ]
          },
          "metadata": {
            "tags": []
          },
          "execution_count": 25
        },
        {
          "output_type": "display_data",
          "data": {
            "image/png": "[encoded data removed]",
            "text/plain": [
              "<Figure size 720x360 with 2 Axes>"
            ]
          },
          "metadata": {
            "tags": []
          }
        }
      ]
    },
    {
      "metadata": {
        "id": "zp3_1MXtllGj",
        "colab_type": "text"
      },
      "cell_type": "markdown",
      "source": [
        "### Target /Suicide -> escaped/Killed"
      ]
    },
    {
      "metadata": {
        "id": "UFMBTiXzllGk",
        "colab_type": "code",
        "colab": {},
        "outputId": "fa0edaea-a202-4486-c49b-d86485e7a7d4"
      },
      "cell_type": "code",
      "source": [
        "sns.catplot(data=df,x='Target Category',kind='count',hue='Target Status')\n"
      ],
      "execution_count": 0,
      "outputs": [
        {
          "output_type": "execute_result",
          "data": {
            "text/plain": [
              "<seaborn.axisgrid.FacetGrid at 0x7f7c54cfe4a8>"
            ]
          },
          "metadata": {
            "tags": []
          },
          "execution_count": 16
        },
        {
          "output_type": "display_data",
          "data": {
            "image/png": "[encoded data removed]",
            "text/plain": [
              "<Figure size 446.1x360 with 1 Axes>"
            ]
          },
          "metadata": {
            "tags": []
          }
        }
      ]
    },
    {
      "metadata": {
        "id": "KnAxzllXllGo",
        "colab_type": "code",
        "colab": {},
        "outputId": "f205130e-417f-4d24-8e20-4f720aab1faf"
      },
      "cell_type": "code",
      "source": [
        "sns.catplot(data=df,hue='Location Category',hue_order=['Residence','University','Road'],kind='count',x='Target Category',col='Target Status')"
      ],
      "execution_count": 0,
      "outputs": [
        {
          "output_type": "execute_result",
          "data": {
            "text/plain": [
              "<seaborn.axisgrid.FacetGrid at 0x7fde2d65e470>"
            ]
          },
          "metadata": {
            "tags": []
          },
          "execution_count": 33
        },
        {
          "output_type": "display_data",
          "data": {
            "image/png": "[encoded data removed]",
            "text/plain": [
              "<Figure size 822.675x360 with 2 Axes>"
            ]
          },
          "metadata": {
            "tags": []
          }
        }
      ]
    },
    {
      "metadata": {
        "id": "HzI_Z7K1llGs",
        "colab_type": "text"
      },
      "cell_type": "markdown",
      "source": [
        "# INSIGHTS\n"
      ]
    },
    {
      "metadata": {
        "id": "V47yEzEJllGt",
        "colab_type": "text"
      },
      "cell_type": "markdown",
      "source": [
        "### 0.1- Time of Both analysis(Targeted/Suicidal)"
      ]
    },
    {
      "metadata": {
        "id": "MnBLXkYollGv",
        "colab_type": "code",
        "colab": {},
        "outputId": "82c4637a-88da-4261-86aa-9229d89938f8"
      },
      "cell_type": "code",
      "source": [
        "sns.catplot(data=df,hue='Time',kind='count',x='Target Category')"
      ],
      "execution_count": 0,
      "outputs": [
        {
          "output_type": "execute_result",
          "data": {
            "text/plain": [
              "<seaborn.axisgrid.FacetGrid at 0x7fde30f40a20>"
            ]
          },
          "metadata": {
            "tags": []
          },
          "execution_count": 14
        },
        {
          "output_type": "display_data",
          "data": {
            "image/png": "[encoded data removed]",
            "text/plain": [
              "<Figure size 459.225x360 with 1 Axes>"
            ]
          },
          "metadata": {
            "tags": []
          }
        }
      ]
    },
    {
      "metadata": {
        "id": "xLQfXx_ollG0",
        "colab_type": "text"
      },
      "cell_type": "markdown",
      "source": [
        "### 1- KPK contains most of the Incidents both(Targeted/Suicidal)"
      ]
    },
    {
      "metadata": {
        "id": "dWXFYCBbllG1",
        "colab_type": "code",
        "colab": {},
        "outputId": "0288d51c-b487-4b76-ffcd-b5f3830baefa"
      },
      "cell_type": "code",
      "source": [
        "sns.catplot(x='Province', col='Target Category', data=df, kind='count',)"
      ],
      "execution_count": 0,
      "outputs": [
        {
          "output_type": "execute_result",
          "data": {
            "text/plain": [
              "<seaborn.axisgrid.FacetGrid at 0x7f7c58650160>"
            ]
          },
          "metadata": {
            "tags": []
          },
          "execution_count": 15
        },
        {
          "output_type": "display_data",
          "data": {
            "image/png": "[encoded data removed]",
            "text/plain": [
              "<Figure size 720x360 with 2 Axes>"
            ]
          },
          "metadata": {
            "tags": []
          }
        }
      ]
    },
    {
      "metadata": {
        "scrolled": true,
        "id": "3LlxI171llG6",
        "colab_type": "code",
        "colab": {},
        "outputId": "10ab19bb-c250-4a15-d34d-baae09fe6877"
      },
      "cell_type": "code",
      "source": [
        "sns.catplot(data=df,x='Province',col='Target Status',hue='Target Category',kind='count')"
      ],
      "execution_count": 0,
      "outputs": [
        {
          "output_type": "execute_result",
          "data": {
            "text/plain": [
              "<seaborn.axisgrid.FacetGrid at 0x7f7c54cc96a0>"
            ]
          },
          "metadata": {
            "tags": []
          },
          "execution_count": 17
        },
        {
          "output_type": "display_data",
          "data": {
            "image/png": "[encoded data removed]",
            "text/plain": [
              "<Figure size 812.784x360 with 2 Axes>"
            ]
          },
          "metadata": {
            "tags": []
          }
        }
      ]
    },
    {
      "metadata": {
        "id": "FhgL1ylYllG_",
        "colab_type": "text"
      },
      "cell_type": "markdown",
      "source": [
        "### 2- Confirm Target Killed\n",
        "### a-Target Killing = 80.9%\n",
        "### b-Suicidal Killing = 37.2%"
      ]
    },
    {
      "metadata": {
        "scrolled": false,
        "id": "tJZ-UhwsllHA",
        "colab_type": "code",
        "colab": {},
        "outputId": "15e95029-0352-483c-c526-c7d0b5a79c6e"
      },
      "cell_type": "code",
      "source": [
        "temp=df.groupby(['Target Category'])['Target Status'].value_counts(normalize=True).reset_index(name=\"Perc\")\n",
        "sns.barplot(data=temp,x='Target Category', y='Perc', hue='Target Status', dodge=False);\n",
        "\n"
      ],
      "execution_count": 0,
      "outputs": [
        {
          "output_type": "display_data",
          "data": {
            "image/png": "[encoded data removed]",
            "text/plain": [
              "<Figure size 432x288 with 1 Axes>"
            ]
          },
          "metadata": {
            "tags": []
          }
        }
      ]
    },
    {
      "metadata": {
        "id": "3PedbaIullHE",
        "colab_type": "text"
      },
      "cell_type": "markdown",
      "source": [
        "### 3-Parveez musharaf is the only one escaped and not injured when Targetted"
      ]
    },
    {
      "metadata": {
        "id": "_bLRPU1sllHG",
        "colab_type": "code",
        "colab": {},
        "outputId": "49f82c76-d38a-499b-f198-688926dca039"
      },
      "cell_type": "code",
      "source": [
        "df[(df['Target Status']=='Escaped') & (df['Target Category']=='Target') & (df['Injured']==0) & (df['Killed']==0)]"
      ],
      "execution_count": 0,
      "outputs": [
        {
          "output_type": "execute_result",
          "data": {
            "text/html": [
              "<div>\n",
              "<table border=\"1\" class=\"dataframe\">\n",
              "  <thead>\n",
              "    <tr style=\"text-align: right;\">\n",
              "      <th></th>\n",
              "      <th>Politician</th>\n",
              "      <th>Day</th>\n",
              "      <th>Date</th>\n",
              "      <th>Day Type</th>\n",
              "      <th>Time</th>\n",
              "      <th>City</th>\n",
              "      <th>Location</th>\n",
              "      <th>Location Category</th>\n",
              "      <th>Province</th>\n",
              "      <th>Latitude</th>\n",
              "      <th>Longititude</th>\n",
              "      <th>Target Category</th>\n",
              "      <th>Space (Open/Closed)</th>\n",
              "      <th>Party</th>\n",
              "      <th>Target Status</th>\n",
              "      <th>Killed</th>\n",
              "      <th>Injured</th>\n",
              "    </tr>\n",
              "  </thead>\n",
              "  <tbody>\n",
              "    <tr>\n",
              "      <th>7</th>\n",
              "      <td>Pervez Musharaf</td>\n",
              "      <td>Monday</td>\n",
              "      <td>15-Dec-03</td>\n",
              "      <td>Working Day</td>\n",
              "      <td>Evening</td>\n",
              "      <td>Rawalpindi</td>\n",
              "      <td>A powerful bomb went off minutes after his hig...</td>\n",
              "      <td>Road</td>\n",
              "      <td>Punjab</td>\n",
              "      <td>33.6058</td>\n",
              "      <td>73.0437</td>\n",
              "      <td>Target</td>\n",
              "      <td>Open</td>\n",
              "      <td>All Pakistan Muslim League</td>\n",
              "      <td>Escaped</td>\n",
              "      <td>0</td>\n",
              "      <td>0</td>\n",
              "    </tr>\n",
              "  </tbody>\n",
              "</table>\n",
              "</div>"
            ],
            "text/plain": [
              "        Politician     Day       Date     Day Type     Time        City  \\\n",
              "7  Pervez Musharaf  Monday  15-Dec-03  Working Day  Evening  Rawalpindi   \n",
              "\n",
              "                                            Location Location Category  \\\n",
              "7  A powerful bomb went off minutes after his hig...              Road   \n",
              "\n",
              "  Province  Latitude  Longititude Target Category Space (Open/Closed)  \\\n",
              "7   Punjab   33.6058      73.0437          Target                Open   \n",
              "\n",
              "                        Party Target Status  Killed  Injured  \n",
              "7  All Pakistan Muslim League       Escaped       0        0  "
            ]
          },
          "metadata": {
            "tags": []
          },
          "execution_count": 59
        }
      ]
    },
    {
      "metadata": {
        "id": "vxn8SvAyllHO",
        "colab_type": "text"
      },
      "cell_type": "markdown",
      "source": [
        "### 4-Attacks are moslty carried out on Working days"
      ]
    },
    {
      "metadata": {
        "id": "1UpmHuMEllHO",
        "colab_type": "code",
        "colab": {},
        "outputId": "78117531-18a5-44f3-9956-97240dff3b4b"
      },
      "cell_type": "code",
      "source": [
        "sns.countplot(data=df,x='Day Type')"
      ],
      "execution_count": 0,
      "outputs": [
        {
          "output_type": "execute_result",
          "data": {
            "text/plain": [
              "<matplotlib.axes._subplots.AxesSubplot at 0x7f7c58691828>"
            ]
          },
          "metadata": {
            "tags": []
          },
          "execution_count": 12
        },
        {
          "output_type": "display_data",
          "data": {
            "image/png": "[encoded data removed]",
            "text/plain": [
              "<Figure size 432x288 with 1 Axes>"
            ]
          },
          "metadata": {
            "tags": []
          }
        }
      ]
    },
    {
      "metadata": {
        "scrolled": false,
        "id": "SYudX6rYllHS",
        "colab_type": "code",
        "colab": {},
        "outputId": "c451fd3e-5ce6-4546-975d-4d4357b0696a"
      },
      "cell_type": "code",
      "source": [
        "sns.catplot(data=df,col='Target Category',x='Day',order=['Friday','Monday','Thursday'],kind='count')"
      ],
      "execution_count": 0,
      "outputs": [
        {
          "output_type": "execute_result",
          "data": {
            "text/plain": [
              "<seaborn.axisgrid.FacetGrid at 0x7f7c58601358>"
            ]
          },
          "metadata": {
            "tags": []
          },
          "execution_count": 13
        },
        {
          "output_type": "display_data",
          "data": {
            "image/png": "[encoded data removed]",
            "text/plain": [
              "<Figure size 720x360 with 2 Axes>"
            ]
          },
          "metadata": {
            "tags": []
          }
        }
      ]
    },
    {
      "metadata": {
        "id": "_jgdWwp4llHW",
        "colab_type": "text"
      },
      "cell_type": "markdown",
      "source": [
        "### 5-Target Category and Target status linked \n",
        "  \n",
        "  ### Escaping\n",
        "### closed suicide =29.4\n",
        "### open suicide=70.5"
      ]
    },
    {
      "metadata": {
        "id": "XF5gHEaQllHZ",
        "colab_type": "code",
        "colab": {},
        "outputId": "ad25c188-68ae-4b19-f218-1b8c1c38f27f"
      },
      "cell_type": "code",
      "source": [
        "temp=df.groupby(['Target Category','Space (Open/Closed)'])['Target Status'].value_counts(normalize=True).reset_index(name=\"Perc\")\n",
        "sns.barplot(data=temp,x='Target Category', y='Perc', hue='Target Status', dodge=True);"
      ],
      "execution_count": 0,
      "outputs": [
        {
          "output_type": "display_data",
          "data": {
            "image/png": "[encoded data removed]",
            "text/plain": [
              "<Figure size 432x288 with 1 Axes>"
            ]
          },
          "metadata": {
            "tags": []
          }
        }
      ]
    },
    {
      "metadata": {
        "id": "AKLwhu7_llHh",
        "colab_type": "text"
      },
      "cell_type": "markdown",
      "source": [
        "### 5- Suicidal Attack Failure but People injured/Killed\n",
        "### total cases = 17\n",
        "### injuries/killings happened = 14\n",
        "### total percentage  = 82.3 % Failed"
      ]
    },
    {
      "metadata": {
        "id": "Y-F2H59wllHj",
        "colab_type": "code",
        "colab": {},
        "outputId": "e8302885-86e4-4f84-8620-eed38936cf2b"
      },
      "cell_type": "code",
      "source": [
        "df[(df['Target Status']=='Escaped') & (df['Target Category']=='Suicide')   ].shape"
      ],
      "execution_count": 0,
      "outputs": [
        {
          "output_type": "execute_result",
          "data": {
            "text/plain": [
              "(17, 17)"
            ]
          },
          "metadata": {
            "tags": []
          },
          "execution_count": 74
        }
      ]
    },
    {
      "metadata": {
        "id": "RMK_BjPullHo",
        "colab_type": "code",
        "colab": {},
        "outputId": "1021b44c-867d-4056-d448-ba980ce10bf0"
      },
      "cell_type": "code",
      "source": [
        "df[(df['Target Status']=='Escaped') & (df['Target Category']=='Suicide')  & (df['Injured']>=1) & (df['Killed']>=1) ].shape"
      ],
      "execution_count": 0,
      "outputs": [
        {
          "output_type": "execute_result",
          "data": {
            "text/plain": [
              "(14, 17)"
            ]
          },
          "metadata": {
            "tags": []
          },
          "execution_count": 73
        }
      ]
    },
    {
      "metadata": {
        "id": "ynqGcp6OllHs",
        "colab_type": "code",
        "colab": {},
        "outputId": "84341fc6-13ff-4176-8e01-5c85609ac10c"
      },
      "cell_type": "code",
      "source": [
        "14/17"
      ],
      "execution_count": 0,
      "outputs": [
        {
          "output_type": "execute_result",
          "data": {
            "text/plain": [
              "0.8235294117647058"
            ]
          },
          "metadata": {
            "tags": []
          },
          "execution_count": 70
        }
      ]
    },
    {
      "metadata": {
        "id": "bcCRIYcnllHv",
        "colab_type": "text"
      },
      "cell_type": "markdown",
      "source": [
        "# Project completed (as far as i know ) :P"
      ]
    },
    {
      "metadata": {
        "id": "yVclbg_sllHw",
        "colab_type": "code",
        "colab": {}
      },
      "cell_type": "code",
      "source": [
        ""
      ],
      "execution_count": 0,
      "outputs": []
    }
  ]
}